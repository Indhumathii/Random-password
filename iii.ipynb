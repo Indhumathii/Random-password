{
 "cells": [
  {
   "cell_type": "code",
   "execution_count": 2,
   "id": "829e7d88",
   "metadata": {},
   "outputs": [
    {
     "name": "stdout",
     "output_type": "stream",
     "text": [
      "Enter the number of letters:\n",
      "2\n",
      "Enter the number of numbers:\n",
      "2\n",
      "Enter the number of symbols:\n",
      "2\n",
      "Your simple password is: yk46)!\n"
     ]
    }
   ],
   "source": [
    "import random\n",
    "letters=[\"a\",\"b\",\"c\",\"d\",\"e\",\"f\",\"g\",\"h\",\"i\",\"j\",\"k\",\"l\",\"m\",\"n\",\"o\",\"p\",\"q\",\"r\",\"s\",\"t\",\"u\",\"v\",\"w\",\"x\",\"y\",\"z0\"]\n",
    "numbers=[\"0\",\"1\",\"2\",\"3\",\"4\",\"5\",\"6\",\"7\",\"8\",\"9\"]\n",
    "symbols=[\"!\",\"@\",\"#\",\"$\",\"%\",\"^\",\"&\",\"*\",\"(\",\")\"]\n",
    "no_of_letters=int(input(\"Enter the number of letters:\\n\"))\n",
    "no_of_numbers=int(input(\"Enter the number of numbers:\\n\"))\n",
    "no_of_symbols=int(input(\"Enter the number of symbols:\\n\"))\n",
    "password=\"\"\n",
    "for i in range(0,no_of_letters):\n",
    "    password=password + random.choice(letters)\n",
    "for i in range(0,no_of_numbers):\n",
    "    password=password + random.choice(numbers)\n",
    "for i in range(0,no_of_symbols):\n",
    "    password=password + random.choice(symbols)\n",
    "print(\"Your simple password is:\",password)    \n",
    "    \n",
    "    \n"
   ]
  },
  {
   "cell_type": "code",
   "execution_count": null,
   "id": "ddc98553",
   "metadata": {},
   "outputs": [],
   "source": []
  },
  {
   "cell_type": "code",
   "execution_count": null,
   "id": "fdc45e18",
   "metadata": {},
   "outputs": [],
   "source": []
  }
 ],
 "metadata": {
  "kernelspec": {
   "display_name": "Python 3 (ipykernel)",
   "language": "python",
   "name": "python3"
  },
  "language_info": {
   "codemirror_mode": {
    "name": "ipython",
    "version": 3
   },
   "file_extension": ".py",
   "mimetype": "text/x-python",
   "name": "python",
   "nbconvert_exporter": "python",
   "pygments_lexer": "ipython3",
   "version": "3.9.7"
  }
 },
 "nbformat": 4,
 "nbformat_minor": 5
}
